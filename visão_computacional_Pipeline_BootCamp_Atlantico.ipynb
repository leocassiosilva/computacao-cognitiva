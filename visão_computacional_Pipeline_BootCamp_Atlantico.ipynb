{
  "nbformat": 4,
  "nbformat_minor": 0,
  "metadata": {
    "colab": {
      "name": "visão_computacional_Pipeline_BootCamp-Atlantico.ipynb",
      "provenance": [],
      "collapsed_sections": [],
      "include_colab_link": true
    },
    "kernelspec": {
      "name": "python3",
      "display_name": "Python 3"
    },
    "language_info": {
      "name": "python"
    },
    "accelerator": "GPU",
    "gpuClass": "standard"
  },
  "cells": [
    {
      "cell_type": "markdown",
      "metadata": {
        "id": "view-in-github",
        "colab_type": "text"
      },
      "source": [
        "<a href=\"https://colab.research.google.com/github/leocassiosilva/computacao-cognitiva/blob/main/vis%C3%A3o_computacional_Pipeline_BootCamp_Atlantico.ipynb\" target=\"_parent\"><img src=\"https://colab.research.google.com/assets/colab-badge.svg\" alt=\"Open In Colab\"/></a>"
      ]
    },
    {
      "cell_type": "markdown",
      "source": [
        "# Unzip"
      ],
      "metadata": {
        "id": "vhkxyryAFaeT"
      }
    },
    {
      "cell_type": "code",
      "source": [
        "!unzip '/content/drive/MyDrive/BootCamp_Atlantico/dataset.zip' -d '/content/'"
      ],
      "metadata": {
        "colab": {
          "base_uri": "https://localhost:8080/"
        },
        "id": "HhLYJdekutr0",
        "outputId": "02ee6fb0-7535-4d79-d95f-31512fb7330d"
      },
      "execution_count": null,
      "outputs": [
        {
          "output_type": "stream",
          "name": "stdout",
          "text": [
            "unzip:  cannot find or open /content/drive/MyDrive/BootCamp_Atlantico/dataset.zip, /content/drive/MyDrive/BootCamp_Atlantico/dataset.zip.zip or /content/drive/MyDrive/BootCamp_Atlantico/dataset.zip.ZIP.\n"
          ]
        }
      ]
    },
    {
      "cell_type": "markdown",
      "source": [
        "# Import"
      ],
      "metadata": {
        "id": "TEPpnsCs5r8E"
      }
    },
    {
      "cell_type": "code",
      "execution_count": null,
      "metadata": {
        "id": "SnSnVw4sxUsF"
      },
      "outputs": [],
      "source": [
        "# from tensorflow.keras.applications.resnet50 import preprocess_input\n",
        "from google.colab.patches import cv2_imshow\n",
        "from tensorflow.keras.preprocessing import image\n",
        "import cv2\n",
        "import numpy as np\n",
        "import os\n",
        "import itertools\n",
        "import time\n",
        "import tensorflow as tf\n",
        "import matplotlib.pyplot as plt\n",
        "from tensorflow import keras\n",
        "from tensorflow.keras.preprocessing.image import ImageDataGenerator\n",
        "from tensorflow.keras.applications.vgg19 import VGG19, preprocess_input\n",
        "from tensorflow.keras.layers import Dense, Flatten\n",
        "# from tensorflow.keras.models import Model\n",
        "from tensorflow.keras.optimizers import Adam\n",
        "from tensorflow.keras.models import load_model\n",
        "from keras.layers import Dense, Dropout, Activation, Flatten, Conv2D, MaxPooling2D\n",
        "from keras.callbacks import TensorBoard, EarlyStopping, ReduceLROnPlateau\n",
        "from keras.models import Sequential\n",
        "# from keras.utils import np_utils\n",
        "# from keras.layers import Input\n",
        "# from keras.layers.merge import add, concatenate\n",
        "from sklearn.metrics import classification_report, confusion_matrix\n",
        "from tensorflow.keras.applications.inception_v3 import InceptionV3\n",
        "from tensorflow.keras.layers import GlobalAveragePooling2D\n"
      ]
    },
    {
      "cell_type": "markdown",
      "source": [
        "#Pre-processamento"
      ],
      "metadata": {
        "id": "oGJyqCAn5vGc"
      }
    },
    {
      "cell_type": "markdown",
      "source": [
        "## Mediana"
      ],
      "metadata": {
        "id": "rB4Ct1Rp5Ec5"
      }
    },
    {
      "cell_type": "code",
      "source": [
        "path_img = '/content/train/Leocassio/'\n",
        "path_out = '/content/mediana/train/Leocassio/'\n",
        "dir_ = os.listdir(path_img)\n",
        "\n",
        "if not os.path.exists(path_out):\n",
        "    os.makedirs(path_out)\n",
        "\n",
        "for img in dir_:\n",
        "  img_noisy1 = cv2.imread(path_img + img, 0)\n",
        "  m, n = img_noisy1.shape\n",
        "\n",
        "  img_new1 = np.zeros([m, n])\n",
        "\n",
        "  for i in range(1, m-1):\n",
        "      for j in range(1, n-1):\n",
        "          temp = [img_noisy1[i-1, j-1],\n",
        "                  img_noisy1[i-1, j],\n",
        "                  img_noisy1[i-1, j + 1],\n",
        "                  img_noisy1[i, j-1],\n",
        "                  img_noisy1[i, j],\n",
        "                  img_noisy1[i, j + 1],\n",
        "                  img_noisy1[i + 1, j-1],\n",
        "                  img_noisy1[i + 1, j],\n",
        "                  img_noisy1[i + 1, j + 1]]\n",
        "          temp = sorted(temp)\n",
        "          img_new1[i, j] = temp[4]\n",
        "\n",
        "  img_new1 = img_new1.astype(np.uint8)\n",
        "  cv2.imwrite(path_out + img, img_new1)"
      ],
      "metadata": {
        "id": "v98gRnZw5xbV",
        "colab": {
          "base_uri": "https://localhost:8080/",
          "height": 244
        },
        "outputId": "7228351a-092c-4fc9-b1df-284c7f8fa3a0"
      },
      "execution_count": null,
      "outputs": [
        {
          "output_type": "error",
          "ename": "FileNotFoundError",
          "evalue": "ignored",
          "traceback": [
            "\u001b[0;31m---------------------------------------------------------------------------\u001b[0m",
            "\u001b[0;31mFileNotFoundError\u001b[0m                         Traceback (most recent call last)",
            "\u001b[0;32m<ipython-input-3-1b577c0fb635>\u001b[0m in \u001b[0;36m<module>\u001b[0;34m()\u001b[0m\n\u001b[1;32m      1\u001b[0m \u001b[0mpath_img\u001b[0m \u001b[0;34m=\u001b[0m \u001b[0;34m'/content/train/Leocassio/'\u001b[0m\u001b[0;34m\u001b[0m\u001b[0;34m\u001b[0m\u001b[0m\n\u001b[1;32m      2\u001b[0m \u001b[0mpath_out\u001b[0m \u001b[0;34m=\u001b[0m \u001b[0;34m'/content/mediana/train/Leocassio/'\u001b[0m\u001b[0;34m\u001b[0m\u001b[0;34m\u001b[0m\u001b[0m\n\u001b[0;32m----> 3\u001b[0;31m \u001b[0mdir_\u001b[0m \u001b[0;34m=\u001b[0m \u001b[0mos\u001b[0m\u001b[0;34m.\u001b[0m\u001b[0mlistdir\u001b[0m\u001b[0;34m(\u001b[0m\u001b[0mpath_img\u001b[0m\u001b[0;34m)\u001b[0m\u001b[0;34m\u001b[0m\u001b[0;34m\u001b[0m\u001b[0m\n\u001b[0m\u001b[1;32m      4\u001b[0m \u001b[0;34m\u001b[0m\u001b[0m\n\u001b[1;32m      5\u001b[0m \u001b[0;32mif\u001b[0m \u001b[0;32mnot\u001b[0m \u001b[0mos\u001b[0m\u001b[0;34m.\u001b[0m\u001b[0mpath\u001b[0m\u001b[0;34m.\u001b[0m\u001b[0mexists\u001b[0m\u001b[0;34m(\u001b[0m\u001b[0mpath_out\u001b[0m\u001b[0;34m)\u001b[0m\u001b[0;34m:\u001b[0m\u001b[0;34m\u001b[0m\u001b[0;34m\u001b[0m\u001b[0m\n",
            "\u001b[0;31mFileNotFoundError\u001b[0m: [Errno 2] No such file or directory: '/content/train/Leocassio/'"
          ]
        }
      ]
    },
    {
      "cell_type": "markdown",
      "source": [
        "## Remove BackGround"
      ],
      "metadata": {
        "id": "-05qfgcB5NSH"
      }
    },
    {
      "cell_type": "code",
      "source": [
        "!sudo apt install ffmpeg python3.6-dev"
      ],
      "metadata": {
        "colab": {
          "base_uri": "https://localhost:8080/"
        },
        "outputId": "1d0f57db-b723-4439-f515-0b3820a667fb",
        "id": "jH4Qqb6URbw3"
      },
      "execution_count": null,
      "outputs": [
        {
          "output_type": "stream",
          "name": "stdout",
          "text": [
            "Reading package lists... Done\n",
            "Building dependency tree       \n",
            "Reading state information... Done\n",
            "python3.6-dev is already the newest version (3.6.9-1~18.04ubuntu1.7).\n",
            "python3.6-dev set to manually installed.\n",
            "ffmpeg is already the newest version (7:3.4.11-0ubuntu0.1).\n",
            "The following package was automatically installed and is no longer required:\n",
            "  libnvidia-common-460\n",
            "Use 'sudo apt autoremove' to remove it.\n",
            "0 upgraded, 0 newly installed, 0 to remove and 49 not upgraded.\n"
          ]
        }
      ]
    },
    {
      "cell_type": "code",
      "source": [
        "!pip install backgroundremover"
      ],
      "metadata": {
        "colab": {
          "base_uri": "https://localhost:8080/",
          "height": 1000
        },
        "outputId": "623ec7a9-7b5a-4264-ce46-7260e4305864",
        "id": "FZq4wFFJRbw5"
      },
      "execution_count": null,
      "outputs": [
        {
          "output_type": "stream",
          "name": "stdout",
          "text": [
            "Looking in indexes: https://pypi.org/simple, https://us-python.pkg.dev/colab-wheels/public/simple/\n",
            "Collecting backgroundremover\n",
            "  Downloading backgroundremover-0.1.9.tar.gz (15 kB)\n",
            "  Installing build dependencies ... \u001b[?25l\u001b[?25hdone\n",
            "  Getting requirements to build wheel ... \u001b[?25l\u001b[?25hdone\n",
            "    Preparing wheel metadata ... \u001b[?25l\u001b[?25hdone\n",
            "Collecting requests>=2.24.0\n",
            "  Downloading requests-2.28.1-py3-none-any.whl (62 kB)\n",
            "\u001b[K     |████████████████████████████████| 62 kB 1.4 MB/s \n",
            "\u001b[?25hRequirement already satisfied: certifi>=2021.5.30 in /usr/local/lib/python3.7/dist-packages (from backgroundremover) (2022.6.15)\n",
            "Collecting six==1.16.0\n",
            "  Downloading six-1.16.0-py2.py3-none-any.whl (11 kB)\n",
            "Requirement already satisfied: PySocks>=1.7.1 in /usr/local/lib/python3.7/dist-packages (from backgroundremover) (1.7.1)\n",
            "Collecting filetype>=1.0.7\n",
            "  Downloading filetype-1.1.0-py2.py3-none-any.whl (17 kB)\n",
            "Requirement already satisfied: torchvision>=0.8.1 in /usr/local/lib/python3.7/dist-packages (from backgroundremover) (0.13.0+cu113)\n",
            "Requirement already satisfied: gdown>=3.13.0 in /usr/local/lib/python3.7/dist-packages (from backgroundremover) (4.4.0)\n",
            "Collecting waitress>=1.4.4\n",
            "  Downloading waitress-2.1.2-py3-none-any.whl (57 kB)\n",
            "\u001b[K     |████████████████████████████████| 57 kB 5.5 MB/s \n",
            "\u001b[?25hRequirement already satisfied: tqdm>=4.51.0 in /usr/local/lib/python3.7/dist-packages (from backgroundremover) (4.64.0)\n",
            "Collecting pymatting>=1.1.1\n",
            "  Downloading PyMatting-1.1.8-py3-none-any.whl (47 kB)\n",
            "\u001b[K     |████████████████████████████████| 47 kB 6.1 MB/s \n",
            "\u001b[?25hCollecting ffmpeg-python\n",
            "  Downloading ffmpeg_python-0.2.0-py3-none-any.whl (25 kB)\n",
            "Collecting Pillow==8.1.1\n",
            "  Downloading Pillow-8.1.1-cp37-cp37m-manylinux1_x86_64.whl (2.2 MB)\n",
            "\u001b[K     |████████████████████████████████| 2.2 MB 32.1 MB/s \n",
            "\u001b[?25hRequirement already satisfied: charset-normalizer>=2.0.4 in /usr/local/lib/python3.7/dist-packages (from backgroundremover) (2.1.0)\n",
            "Requirement already satisfied: filelock>=3.0.12 in /usr/local/lib/python3.7/dist-packages (from backgroundremover) (3.7.1)\n",
            "Collecting urllib3==1.26.6\n",
            "  Downloading urllib3-1.26.6-py2.py3-none-any.whl (138 kB)\n",
            "\u001b[K     |████████████████████████████████| 138 kB 63.2 MB/s \n",
            "\u001b[?25hRequirement already satisfied: torch>=1.7.0 in /usr/local/lib/python3.7/dist-packages (from backgroundremover) (1.12.0+cu113)\n",
            "Collecting moviepy==1.0.3\n",
            "  Downloading moviepy-1.0.3.tar.gz (388 kB)\n",
            "\u001b[K     |████████████████████████████████| 388 kB 62.3 MB/s \n",
            "\u001b[?25hRequirement already satisfied: scipy>=1.5.4 in /usr/local/lib/python3.7/dist-packages (from backgroundremover) (1.7.3)\n",
            "Requirement already satisfied: scikit-image>=0.17.2 in /usr/local/lib/python3.7/dist-packages (from backgroundremover) (0.18.3)\n",
            "Requirement already satisfied: numpy>=1.19.4 in /usr/local/lib/python3.7/dist-packages (from backgroundremover) (1.21.6)\n",
            "Collecting idna>=3.2\n",
            "  Downloading idna-3.3-py3-none-any.whl (61 kB)\n",
            "\u001b[K     |████████████████████████████████| 61 kB 9.1 MB/s \n",
            "\u001b[?25hCollecting hsh>=1.1.0\n",
            "  Downloading hsh-1.1.0-py2.py3-none-any.whl (9.0 kB)\n",
            "Collecting more-itertools==8.7.0\n",
            "  Downloading more_itertools-8.7.0-py3-none-any.whl (48 kB)\n",
            "\u001b[K     |████████████████████████████████| 48 kB 6.4 MB/s \n",
            "\u001b[?25hRequirement already satisfied: decorator<5.0,>=4.0.2 in /usr/local/lib/python3.7/dist-packages (from moviepy==1.0.3->backgroundremover) (4.4.2)\n",
            "Collecting proglog<=1.0.0\n",
            "  Downloading proglog-0.1.10-py3-none-any.whl (6.1 kB)\n",
            "Collecting imageio<3.0,>=2.5\n",
            "  Downloading imageio-2.19.3-py3-none-any.whl (3.4 MB)\n",
            "\u001b[K     |████████████████████████████████| 3.4 MB 44.3 MB/s \n",
            "\u001b[?25hCollecting imageio_ffmpeg>=0.2.0\n",
            "  Downloading imageio_ffmpeg-0.4.7-py3-none-manylinux2010_x86_64.whl (26.9 MB)\n",
            "\u001b[K     |████████████████████████████████| 26.9 MB 1.3 MB/s \n",
            "\u001b[?25hRequirement already satisfied: requests[socks] in /usr/local/lib/python3.7/dist-packages (from gdown>=3.13.0->backgroundremover) (2.23.0)\n",
            "Requirement already satisfied: beautifulsoup4 in /usr/local/lib/python3.7/dist-packages (from gdown>=3.13.0->backgroundremover) (4.6.3)\n",
            "Collecting commandlines\n",
            "  Downloading commandlines-0.4.1-py2.py3-none-any.whl (18 kB)\n",
            "Collecting imageio<3.0,>=2.5\n",
            "  Downloading imageio-2.19.2-py3-none-any.whl (3.4 MB)\n",
            "\u001b[K     |████████████████████████████████| 3.4 MB 65.2 MB/s \n",
            "\u001b[?25h  Downloading imageio-2.19.1-py3-none-any.whl (3.4 MB)\n",
            "\u001b[K     |████████████████████████████████| 3.4 MB 42.7 MB/s \n",
            "\u001b[?25h  Downloading imageio-2.19.0-py3-none-any.whl (3.4 MB)\n",
            "\u001b[K     |████████████████████████████████| 3.4 MB 49.7 MB/s \n",
            "\u001b[?25h  Downloading imageio-2.18.0-py3-none-any.whl (3.4 MB)\n",
            "\u001b[K     |████████████████████████████████| 3.4 MB 42.2 MB/s \n",
            "\u001b[?25h  Downloading imageio-2.17.0-py3-none-any.whl (3.4 MB)\n",
            "\u001b[K     |████████████████████████████████| 3.4 MB 34.8 MB/s \n",
            "\u001b[?25h  Downloading imageio-2.16.2-py3-none-any.whl (3.3 MB)\n",
            "\u001b[K     |████████████████████████████████| 3.3 MB 46.3 MB/s \n",
            "\u001b[?25h  Downloading imageio-2.16.1-py3-none-any.whl (3.3 MB)\n",
            "\u001b[K     |████████████████████████████████| 3.3 MB 30.6 MB/s \n",
            "\u001b[?25h  Downloading imageio-2.15.0-py3-none-any.whl (3.3 MB)\n",
            "\u001b[K     |████████████████████████████████| 3.3 MB 65.2 MB/s \n",
            "\u001b[?25h  Downloading imageio-2.14.1-py3-none-any.whl (3.3 MB)\n",
            "\u001b[K     |████████████████████████████████| 3.3 MB 48.9 MB/s \n",
            "\u001b[?25h  Downloading imageio-2.14.0-py3-none-any.whl (3.3 MB)\n",
            "\u001b[K     |████████████████████████████████| 3.3 MB 63.4 MB/s \n",
            "\u001b[?25h  Downloading imageio-2.13.5-py3-none-any.whl (3.3 MB)\n",
            "\u001b[K     |████████████████████████████████| 3.3 MB 37.3 MB/s \n",
            "\u001b[?25h  Downloading imageio-2.13.4-py3-none-any.whl (3.3 MB)\n",
            "\u001b[K     |████████████████████████████████| 3.3 MB 562 kB/s \n",
            "\u001b[?25h  Downloading imageio-2.13.3-py3-none-any.whl (3.3 MB)\n",
            "\u001b[K     |████████████████████████████████| 3.3 MB 47.6 MB/s \n",
            "\u001b[?25h  Downloading imageio-2.13.2-py3-none-any.whl (3.3 MB)\n",
            "\u001b[K     |████████████████████████████████| 3.3 MB 35.0 MB/s \n",
            "\u001b[?25h  Downloading imageio-2.13.1-py3-none-any.whl (3.3 MB)\n",
            "\u001b[K     |████████████████████████████████| 3.3 MB 45.1 MB/s \n",
            "\u001b[?25h  Downloading imageio-2.13.0-py3-none-any.whl (3.3 MB)\n",
            "\u001b[K     |████████████████████████████████| 3.3 MB 46.0 MB/s \n",
            "\u001b[?25h  Downloading imageio-2.12.0-py3-none-any.whl (3.3 MB)\n",
            "\u001b[K     |████████████████████████████████| 3.3 MB 34.6 MB/s \n",
            "\u001b[?25h  Downloading imageio-2.11.1-py3-none-any.whl (3.3 MB)\n",
            "\u001b[K     |████████████████████████████████| 3.3 MB 35.8 MB/s \n",
            "\u001b[?25h  Downloading imageio-2.11.0-py3-none-any.whl (3.3 MB)\n",
            "\u001b[K     |████████████████████████████████| 3.3 MB 38.3 MB/s \n",
            "\u001b[?25h  Downloading imageio-2.10.5-py3-none-any.whl (3.3 MB)\n",
            "\u001b[K     |████████████████████████████████| 3.3 MB 36.4 MB/s \n",
            "\u001b[?25h  Downloading imageio-2.10.4-py3-none-any.whl (3.3 MB)\n",
            "\u001b[K     |████████████████████████████████| 3.3 MB 41.4 MB/s \n",
            "\u001b[?25h  Downloading imageio-2.10.3-py3-none-any.whl (3.3 MB)\n",
            "\u001b[K     |████████████████████████████████| 3.3 MB 51.0 MB/s \n",
            "\u001b[?25h  Downloading imageio-2.10.2-py3-none-any.whl (3.3 MB)\n",
            "\u001b[K     |████████████████████████████████| 3.3 MB 46.2 MB/s \n",
            "\u001b[?25h  Downloading imageio-2.10.1-py3-none-any.whl (3.3 MB)\n",
            "\u001b[K     |████████████████████████████████| 3.3 MB 4.5 MB/s \n",
            "\u001b[?25h  Downloading imageio-2.9.0-py3-none-any.whl (3.3 MB)\n",
            "\u001b[K     |████████████████████████████████| 3.3 MB 44.9 MB/s \n",
            "\u001b[?25hRequirement already satisfied: numba!=0.49.0 in /usr/local/lib/python3.7/dist-packages (from pymatting>=1.1.1->backgroundremover) (0.51.2)\n",
            "Requirement already satisfied: setuptools in /usr/local/lib/python3.7/dist-packages (from numba!=0.49.0->pymatting>=1.1.1->backgroundremover) (57.4.0)\n",
            "Requirement already satisfied: llvmlite<0.35,>=0.34.0.dev0 in /usr/local/lib/python3.7/dist-packages (from numba!=0.49.0->pymatting>=1.1.1->backgroundremover) (0.34.0)\n",
            "Requirement already satisfied: tifffile>=2019.7.26 in /usr/local/lib/python3.7/dist-packages (from scikit-image>=0.17.2->backgroundremover) (2021.11.2)\n",
            "Requirement already satisfied: PyWavelets>=1.1.1 in /usr/local/lib/python3.7/dist-packages (from scikit-image>=0.17.2->backgroundremover) (1.3.0)\n",
            "Requirement already satisfied: networkx>=2.0 in /usr/local/lib/python3.7/dist-packages (from scikit-image>=0.17.2->backgroundremover) (2.6.3)\n",
            "Requirement already satisfied: matplotlib!=3.0.0,>=2.0.0 in /usr/local/lib/python3.7/dist-packages (from scikit-image>=0.17.2->backgroundremover) (3.2.2)\n",
            "Requirement already satisfied: pyparsing!=2.0.4,!=2.1.2,!=2.1.6,>=2.0.1 in /usr/local/lib/python3.7/dist-packages (from matplotlib!=3.0.0,>=2.0.0->scikit-image>=0.17.2->backgroundremover) (3.0.9)\n",
            "Requirement already satisfied: kiwisolver>=1.0.1 in /usr/local/lib/python3.7/dist-packages (from matplotlib!=3.0.0,>=2.0.0->scikit-image>=0.17.2->backgroundremover) (1.4.3)\n",
            "Requirement already satisfied: python-dateutil>=2.1 in /usr/local/lib/python3.7/dist-packages (from matplotlib!=3.0.0,>=2.0.0->scikit-image>=0.17.2->backgroundremover) (2.8.2)\n",
            "Requirement already satisfied: cycler>=0.10 in /usr/local/lib/python3.7/dist-packages (from matplotlib!=3.0.0,>=2.0.0->scikit-image>=0.17.2->backgroundremover) (0.11.0)\n",
            "Requirement already satisfied: typing-extensions in /usr/local/lib/python3.7/dist-packages (from kiwisolver>=1.0.1->matplotlib!=3.0.0,>=2.0.0->scikit-image>=0.17.2->backgroundremover) (4.1.1)\n",
            "Requirement already satisfied: future in /usr/local/lib/python3.7/dist-packages (from ffmpeg-python->backgroundremover) (0.16.0)\n",
            "Building wheels for collected packages: backgroundremover, moviepy\n",
            "  Building wheel for backgroundremover (PEP 517) ... \u001b[?25l\u001b[?25hdone\n",
            "  Created wheel for backgroundremover: filename=backgroundremover-0.1.9-py3-none-any.whl size=18016 sha256=c41c4485e19b8420adb50356b8caecaaeb44e8f87178e283af506a7fd84becf9\n",
            "  Stored in directory: /root/.cache/pip/wheels/72/6b/eb/7fcceb74002c5ef2eb162b8f91fd4d42561b0e177a009d34a9\n",
            "  Building wheel for moviepy (setup.py) ... \u001b[?25l\u001b[?25hdone\n",
            "  Created wheel for moviepy: filename=moviepy-1.0.3-py3-none-any.whl size=110743 sha256=586be008bf388cc4b5e66a17f1d4c5a530e9b47286877ea7af06c31f4896ae9b\n",
            "  Stored in directory: /root/.cache/pip/wheels/56/dc/2b/9cd600d483c04af3353d66623056fc03faed76b7518faae4df\n",
            "Successfully built backgroundremover moviepy\n",
            "Installing collected packages: urllib3, six, idna, requests, Pillow, proglog, imageio-ffmpeg, imageio, commandlines, waitress, pymatting, moviepy, more-itertools, hsh, filetype, ffmpeg-python, backgroundremover\n",
            "  Attempting uninstall: urllib3\n",
            "    Found existing installation: urllib3 1.24.3\n",
            "    Uninstalling urllib3-1.24.3:\n",
            "      Successfully uninstalled urllib3-1.24.3\n",
            "  Attempting uninstall: six\n",
            "    Found existing installation: six 1.15.0\n",
            "    Uninstalling six-1.15.0:\n",
            "      Successfully uninstalled six-1.15.0\n",
            "  Attempting uninstall: idna\n",
            "    Found existing installation: idna 2.10\n",
            "    Uninstalling idna-2.10:\n",
            "      Successfully uninstalled idna-2.10\n",
            "  Attempting uninstall: requests\n",
            "    Found existing installation: requests 2.23.0\n",
            "    Uninstalling requests-2.23.0:\n",
            "      Successfully uninstalled requests-2.23.0\n",
            "  Attempting uninstall: Pillow\n",
            "    Found existing installation: Pillow 7.1.2\n",
            "    Uninstalling Pillow-7.1.2:\n",
            "      Successfully uninstalled Pillow-7.1.2\n",
            "  Attempting uninstall: imageio\n",
            "    Found existing installation: imageio 2.4.1\n",
            "    Uninstalling imageio-2.4.1:\n",
            "      Successfully uninstalled imageio-2.4.1\n",
            "  Attempting uninstall: moviepy\n",
            "    Found existing installation: moviepy 0.2.3.5\n",
            "    Uninstalling moviepy-0.2.3.5:\n",
            "      Successfully uninstalled moviepy-0.2.3.5\n",
            "  Attempting uninstall: more-itertools\n",
            "    Found existing installation: more-itertools 8.13.0\n",
            "    Uninstalling more-itertools-8.13.0:\n",
            "      Successfully uninstalled more-itertools-8.13.0\n",
            "\u001b[31mERROR: pip's dependency resolver does not currently take into account all the packages that are installed. This behaviour is the source of the following dependency conflicts.\n",
            "google-colab 1.0.0 requires requests~=2.23.0, but you have requests 2.28.1 which is incompatible.\n",
            "google-colab 1.0.0 requires six~=1.15.0, but you have six 1.16.0 which is incompatible.\n",
            "datascience 0.10.6 requires folium==0.2.1, but you have folium 0.8.3 which is incompatible.\n",
            "albumentations 0.1.12 requires imgaug<0.2.7,>=0.2.5, but you have imgaug 0.2.9 which is incompatible.\u001b[0m\n",
            "Successfully installed Pillow-8.1.1 backgroundremover-0.1.9 commandlines-0.4.1 ffmpeg-python-0.2.0 filetype-1.1.0 hsh-1.1.0 idna-3.3 imageio-2.9.0 imageio-ffmpeg-0.4.7 more-itertools-8.7.0 moviepy-1.0.3 proglog-0.1.10 pymatting-1.1.8 requests-2.28.1 six-1.16.0 urllib3-1.26.6 waitress-2.1.2\n"
          ]
        },
        {
          "output_type": "display_data",
          "data": {
            "application/vnd.colab-display-data+json": {
              "pip_warning": {
                "packages": [
                  "PIL",
                  "idna",
                  "requests",
                  "six",
                  "urllib3"
                ]
              }
            }
          },
          "metadata": {}
        }
      ]
    },
    {
      "cell_type": "code",
      "source": [
        "!backgroundremover -i \"/content/train/Renato/IMG_20220715_212545.jpg\" -o \"output3.png\""
      ],
      "metadata": {
        "colab": {
          "base_uri": "https://localhost:8080/"
        },
        "outputId": "113c5474-80b4-4057-971c-b2d347265c47",
        "id": "X1cq4xbuRbw6"
      },
      "execution_count": null,
      "outputs": [
        {
          "output_type": "stream",
          "name": "stdout",
          "text": [
            "/usr/local/lib/python3.7/dist-packages/numba/np/ufunc/parallel.py:363: NumbaWarning: The TBB threading layer requires TBB version 2019.5 or later i.e., TBB_INTERFACE_VERSION >= 11005. Found TBB_INTERFACE_VERSION = 9107. The TBB threading layer is disabled.\n",
            "  warnings.warn(problem)\n",
            "output3.png\n"
          ]
        }
      ]
    },
    {
      "cell_type": "code",
      "source": [
        "\n",
        "img_ = cv2.imread('/content/output.png')\n",
        "resized = cv2.resize(img_, (256,256), interpolation = cv2.INTER_AREA)\n",
        "cv2_imshow(resized)"
      ],
      "metadata": {
        "colab": {
          "base_uri": "https://localhost:8080/",
          "height": 273
        },
        "outputId": "e302620f-b254-4267-f44b-5532b274bd13",
        "id": "XYLB9F-zRbw7"
      },
      "execution_count": null,
      "outputs": [
        {
          "output_type": "display_data",
          "data": {
            "text/plain": [
              "<PIL.Image.Image image mode=RGB size=256x256 at 0x7F79576ED090>"
            ],
            "image/png": "[encoded data removed]"
          },
          "metadata": {}
        }
      ]
    },
    {
      "cell_type": "markdown",
      "source": [
        "## subtract blackhat"
      ],
      "metadata": {
        "id": "rHKkGvuv5nBK"
      }
    },
    {
      "cell_type": "code",
      "source": [
        "def subtract_blackhat(image_gray):\n",
        "    \"\"\"\n",
        "        Funcao responsavel por realçar uma imagem utilizando a operação de subtração com o filtro blackhat\n",
        "        Arguments:\n",
        "          image_gray: np.array -- Uma matriz NumPy que representa a imagem na escala de cinza\n",
        "                com a forma (num_rows, num_cols, num_channels)\n",
        "        Return:\n",
        "          image_enhancement: np.array -- Imagem realçada\n",
        "    \"\"\"\n",
        "    structuring_element = cv2.getStructuringElement(cv2.MORPH_ELLIPSE, (25, 25))\n",
        "    image_processed = cv2.morphologyEx(image_gray, cv2.MORPH_BLACKHAT, structuring_element)\n",
        "    image_enhancement = cv2.subtract(image_gray, image_processed)\n",
        "    image_enhancement = cv2.subtract(image_enhancement, image_processed)\n",
        "    return image_enhancement"
      ],
      "metadata": {
        "id": "jYs0BXrpLAwN"
      },
      "execution_count": null,
      "outputs": []
    },
    {
      "cell_type": "code",
      "source": [
        "path_img = '/content/train/Leocassio/'\n",
        "path_out = '/content/backG/train/Leocassio/'\n",
        "dir_ = os.listdir(path_img)\n",
        "\n",
        "if not os.path.exists(path_out):\n",
        "    os.makedirs(path_out)\n",
        "\n",
        "for k in dir_:\n",
        "  im = cv2.imread(path_img + k)\n",
        "  gray = cv2.cvtColor(im, cv2.COLOR_BGR2GRAY)\n",
        "  out = subtract_blackhat(gray)\n",
        "\n",
        "  cv2.imwrite(path_out + k, out)"
      ],
      "metadata": {
        "colab": {
          "base_uri": "https://localhost:8080/"
        },
        "id": "rLwHVSmqLCme",
        "outputId": "4d07a036-e36c-467e-884f-4b210956b04d"
      },
      "execution_count": null,
      "outputs": [
        {
          "output_type": "execute_result",
          "data": {
            "text/plain": [
              "True"
            ]
          },
          "metadata": {},
          "execution_count": 20
        }
      ]
    },
    {
      "cell_type": "markdown",
      "source": [
        "# Dataset"
      ],
      "metadata": {
        "id": "sjQWBPuAyRUB"
      }
    },
    {
      "cell_type": "code",
      "source": [
        "# Carregar o dataset\n",
        "def load_dataset(TRAINING_DIR, TEST_DIR, VAL_DIR, im_shape, seed, BATCH_SIZE):\n",
        "    \"\"\"\n",
        "        Funcao responsavel por carregar as imagens no disco\n",
        "\n",
        "        Arguments:\n",
        "          TRAINING_DIR: str -- Caminho do dataset de treinamento\n",
        "          TEST_DIR: str -- Caminho do dataset de teste\n",
        "          VAL_DIR: str -- Caminho para as imagens de validação\n",
        "          im_shape: tuple -- Shape das imagens\n",
        "          seed: int --\n",
        "          BATCH_SIZE: int -- Controla o número de amostras de treinamento a serem trabalhadas\n",
        "\n",
        "        Return:\n",
        "          train_generator: Imagens de treinamento carregadas atraves do metodo generator do Keras\n",
        "          validation_generator: Imagens de validação carregadas atraves do metodo generator do Keras\n",
        "          test_generator: Imagens de teste carregadas atraves do metodo generator do Keras\n",
        "          nb_train_samples: int -- Quantidade de imagens para treinamento\n",
        "          nb_validation_samples: int -- Quantidade de imagens para validação\n",
        "          nb_test_samples: int -- Quantidade de imagens para teste\n",
        "          num_classes: int -- Quantidade de classes\n",
        "          classes: list -- Lista das classes\n",
        "    \"\"\"\n",
        "    # Dataset SEM Data Augmentation\n",
        "    data_generator = ImageDataGenerator(rescale=1./255,\n",
        "        preprocessing_function=preprocess_input)\n",
        "\n",
        "    # Dataset COM Data Augmentation\n",
        "    # data_generator = ImageDataGenerator(\n",
        "    #                          rescale=1./255,    \n",
        "    #                          rotation_range=1,\n",
        "    #                          zoom_range=0.08,\n",
        "    #                          vertical_flip=True,\n",
        "    #                          horizontal_flip=True,\n",
        "    #                          preprocessing_function=preprocess_input) \n",
        "\n",
        "    val_data_generator = ImageDataGenerator(rescale=1./255,\n",
        "        preprocessing_function=preprocess_input)\n",
        "\n",
        "    # Generator para parte train\n",
        "    train_generator = data_generator.flow_from_directory(TRAINING_DIR, target_size=im_shape, shuffle=True, seed=seed,\n",
        "                                                         class_mode='categorical', batch_size=BATCH_SIZE,\n",
        "                                                         subset=\"training\")\n",
        "    # Generator para parte validação\n",
        "    validation_generator = val_data_generator.flow_from_directory(VAL_DIR, target_size=im_shape, shuffle=False,\n",
        "                                                                  seed=seed,\n",
        "                                                                  class_mode='categorical', batch_size=BATCH_SIZE)\n",
        "\n",
        "    # Generator para dataset de teste\n",
        "    test_generator = ImageDataGenerator(rescale=1./255,\n",
        "        preprocessing_function=preprocess_input)\n",
        "    \n",
        "    test_generator = test_generator.flow_from_directory(TEST_DIR, target_size=im_shape, shuffle=False, seed=seed,\n",
        "                                                        class_mode='categorical', batch_size=BATCH_SIZE)\n",
        "\n",
        "    nb_train_samples = train_generator.samples\n",
        "    nb_validation_samples = validation_generator.samples\n",
        "    nb_test_samples = test_generator.samples\n",
        "\n",
        "    classes = list(train_generator.class_indices.keys())\n",
        "    print('Classes_train: ' + str(classes))\n",
        "\n",
        "    classes_val = list(validation_generator.class_indices.keys())\n",
        "    print('Classes_val: ' + str(classes_val))\n",
        "\n",
        "    classes_test = list(test_generator.class_indices.keys())\n",
        "    print('Classes_test: ' + str(classes_test))\n",
        "\n",
        "    num_classes = len(classes)\n",
        "\n",
        "    return train_generator, validation_generator, test_generator, nb_train_samples, nb_validation_samples, \\\n",
        "           nb_test_samples, num_classes, classes\n",
        "\n"
      ],
      "metadata": {
        "id": "z8EKaMgryU9K"
      },
      "execution_count": null,
      "outputs": []
    },
    {
      "cell_type": "markdown",
      "source": [
        "# Model"
      ],
      "metadata": {
        "id": "CT_1w_TEzWOu"
      }
    },
    {
      "cell_type": "code",
      "source": [
        "# Modelo\n",
        "def make_modelGen_inceptionv3(epochs, BATCH_SIZE,\n",
        "                              train_generator, validation_generator,\n",
        "                              nb_train_samples, nb_validation_samples,\n",
        "                              path_model, num_classes=3, im_shape=(256, 256, 3),\n",
        "                              layers_trainable=True):\n",
        "    \"\"\"\n",
        "        Funcao que retorna a rede IncerptionV3 pronta pra ser treinada\n",
        "        Arguments:\n",
        "          epochs: int -- Quantidade de epochs que sera usada no treinamento\n",
        "          BATCH_SIZE: int -- Controla o número de amostras de treinamento a serem trabalhadas\n",
        "          train_generator: Imagens de treinamento carregadas atraves do metodo generator do Keras\n",
        "          validation_generator: Imagens de validação carregadas atraves do metodo generator do Keras\n",
        "          nb_train_samples: int -- Quantidade de imagens para treinamento\n",
        "          nb_validation_samples: int -- Quantidade de imagens para validação\n",
        "          path_model: str -- Caminho para salvar o modelo\n",
        "          num_classes: int -- Quantidade de classes do dataset\n",
        "          im_shape: tuple -- Parametro com o Shape das imagens\n",
        "          layers_trainable: boolean -- define o atributo trainable\n",
        "        Return:\n",
        "    \"\"\"\n",
        "    inception = InceptionV3(weights='imagenet', include_top=False, input_shape=im_shape)\n",
        "    model_name = \"inception{}\".format(time.time())\n",
        "    tensorboard = TensorBoard(log_dir=\"/content/drive/MyDrive/BootCamp_Atlantico/projeto/tensoboard/Inceptionv3/{}\".format(model_name))\n",
        "\n",
        "    if (not (layers_trainable)):\n",
        "        for layer in inception.layers:\n",
        "            layer.trainable = False\n",
        "\n",
        "    model = Sequential()\n",
        "    model.add(inception)\n",
        "    model.add(GlobalAveragePooling2D())\n",
        "    model.add(Dropout(0.2))\n",
        "    model.add(Dense(num_classes, activation='softmax'))\n",
        "\n",
        "    model.compile(loss='categorical_crossentropy', optimizer=Adam(learning_rate=0.0001), metrics=['accuracy']) # sparse_categorical_accuracy\n",
        "\n",
        "    earlyStopping = EarlyStopping(monitor='val_loss', patience=30, verbose=0, mode='min')\n",
        "    mcp_save = keras.callbacks.ModelCheckpoint(filepath=path_model, monitor='val_loss', save_best_only=True, verbose=1)\n",
        "    reduce_lr_loss = ReduceLROnPlateau(monitor='val_loss', factor=0.05, patience=30, verbose=1,\n",
        "                                       epsilon=1e-4,\n",
        "                                       mode='min')\n",
        "    model.fit(train_generator, batch_size=BATCH_SIZE, epochs=epochs, validation_data=validation_generator, verbose=1,\n",
        "              validation_steps=nb_validation_samples // BATCH_SIZE, callbacks=[mcp_save, reduce_lr_loss, earlyStopping\n",
        "            , tensorboard])\n",
        "    model.evaluate(validation_generator, batch_size=BATCH_SIZE, verbose=1)"
      ],
      "metadata": {
        "id": "O7fgWvelys5n"
      },
      "execution_count": null,
      "outputs": []
    },
    {
      "cell_type": "code",
      "source": [
        "# Modelo\n",
        "def make_modelGen(epochs, BATCH_SIZE, num_classes, im_shape, train_generator\n",
        "                , validation_generator, nb_train_samples, nb_validation_samples, path_model, bloc=4, layer_size=[128, 64, 32, 16], dense_layer=2):\n",
        "    print('==========================')\n",
        "    print(f'Rede: {bloc}')\n",
        "    print(f'layer_size: {layer_size}')\n",
        "    print('==========================')\n",
        "\n",
        "    # input_image = Input(shape=(100, 100, 3))\n",
        "\n",
        "    model_name = \"{}-nodes-{}-dense-{}\".format(\n",
        "               layer_size, dense_layer, time.time())\n",
        "    tensorboard = TensorBoard(log_dir=\"/content/drive/MyDrive/projeto/tensoboard/gene/{}\".format(model_name))\n",
        "    model = Sequential()\n",
        "    #print('aqui1\\n')\n",
        "    for i in range(bloc):\n",
        "        print(layer_size[i])\n",
        "        model.add(Conv2D(layer_size[i], kernel_size=(3, 3), input_shape=(256, 256, 3)))\n",
        "        #print('aqui2\\n')\n",
        "        model.add(Activation(\"relu\"))\n",
        "        model.add(MaxPooling2D(pool_size=(2, 2)))\n",
        "\n",
        "        if i == 0:\n",
        "            model.add(Dropout(0.1))\n",
        "        else:\n",
        "            model.add(Dropout(0.25))\n",
        "    \n",
        "    model.add(Flatten())\n",
        "    for _ in range(dense_layer):\n",
        "        model.add(Dense(16))\n",
        "        model.add(Activation('relu'))\n",
        "\n",
        "    model.add(Dense(3))\n",
        "    model.add(Activation('softmax'))\n",
        "\n",
        "    # print(model.summary())\n",
        "\n",
        "    model.compile(loss='categorical_crossentropy', optimizer='adam', metrics=['accuracy'])\n",
        "    \n",
        "\n",
        "    earlyStopping = EarlyStopping(monitor='val_loss', patience=10, verbose=0, mode='min')\n",
        "    mcp_save = keras.callbacks.ModelCheckpoint(filepath=path_model, monitor='val_loss', save_best_only=True, verbose=1)\n",
        "    reduce_lr_loss = ReduceLROnPlateau(monitor='val_loss', factor=0.05, patience=10, verbose=1,\n",
        "                            epsilon=1e-4,\n",
        "                            mode='min')\n",
        "    model.fit(train_generator, batch_size=BATCH_SIZE, epochs=epochs, validation_data=validation_generator, verbose=1,\n",
        "            validation_steps=nb_validation_samples // BATCH_SIZE ,callbacks=[mcp_save, tensorboard, reduce_lr_loss, earlyStopping])\n",
        "    model.evaluate(validation_generator, batch_size=BATCH_SIZE, verbose=1)"
      ],
      "metadata": {
        "id": "kfIDVFyA1cTW"
      },
      "execution_count": null,
      "outputs": []
    },
    {
      "cell_type": "markdown",
      "source": [
        "# Test"
      ],
      "metadata": {
        "id": "kJYQHmPmzdW0"
      }
    },
    {
      "cell_type": "code",
      "source": [
        "# Testando o modelo\n",
        "def test_model(path_model, validation_generator, test_generator):\n",
        "    \"\"\"\n",
        "        Funcao responsavel por testar o modelo\n",
        "\n",
        "        Arguments:\n",
        "          path_model: str -- Caminho do modelo salvo na etapa de treinamento\n",
        "          validation_generator: Imagens de validação carregadas atraves do metodo generator do Keras\n",
        "          test_generator: Imagens de teste carregadas atraves do metodo generator do Keras\n",
        "\n",
        "        Return:\n",
        "          Y_pred: numpy.ndarray -- Todas as predições do modelo\n",
        "          y_pred: numpy.ndarray -- Pega a predição com a maior confiança\n",
        "          target_names: list -- Lista das classes\n",
        "          model: Modelo carregado\n",
        "    \"\"\"\n",
        "    model = load_model(path_model)\n",
        "\n",
        "    score = model.evaluate_generator(validation_generator)\n",
        "    print('Val loss:', score[0])\n",
        "    print('Val accuracy:', score[1])\n",
        "\n",
        "    score = model.evaluate_generator(test_generator)\n",
        "    print('Test loss:', score[0])\n",
        "    print('Test accuracy:', score[1])\n",
        "\n",
        "    classes = list(validation_generator.class_indices.keys())\n",
        "    print(f'classes: {classes}')\n",
        "    Y_pred = model.predict_generator(test_generator)  # , nb_test_samples // BATCH_SIZE, workers=1)\n",
        "    y_pred = np.argmax(Y_pred, axis=1)\n",
        "    target_names = classes\n",
        "\n",
        "    # print(model.summary())\n",
        "\n",
        "    return Y_pred, y_pred, target_names, model\n",
        "\n",
        "\n",
        "# plotando a matriz de confusão\n",
        "def plot_confusion_matrix(path_save, name, cm, classes, normalize=True, title='Confusion matrix', cmap=plt.cm.Blues):\n",
        "    \"\"\"\n",
        "        Funcao responsavel por plotar a matriz de confusão\n",
        "\n",
        "        Arguments:\n",
        "          path_save: str -- caminho para salvar a imagem\n",
        "          name: str -- nome da rede\n",
        "          cm: matriz de confusão\n",
        "          classes: list -- Lista das classes\n",
        "          normalize: bool --\n",
        "          title: str -- Titulo\n",
        "          cmap: Mapa de cores registrado usado para mapear dados escalares para cores\n",
        "\n",
        "        Return:\n",
        "    \"\"\"\n",
        "    plt.figure(figsize=(10, 10))\n",
        "    plt.imshow(cm, interpolation='nearest', cmap=cmap)\n",
        "    plt.title(title)\n",
        "    plt.colorbar()\n",
        "    tick_marks = np.arange(len(classes))\n",
        "    plt.xticks(tick_marks, classes, rotation=45)\n",
        "    plt.yticks(tick_marks, classes)\n",
        "    if normalize:\n",
        "        cm = cm.astype('float') / cm.sum(axis=1)[:, np.newaxis]\n",
        "        cm = np.around(cm, decimals=2)\n",
        "        cm[np.isnan(cm)] = 0.0\n",
        "    thresh = cm.max() / 2.\n",
        "    for i, j in itertools.product(range(cm.shape[0]), range(cm.shape[1])):\n",
        "        plt.text(j, i, cm[i, j],\n",
        "                 horizontalalignment=\"center\",\n",
        "                 color=\"white\" if cm[i, j] > thresh else \"black\")\n",
        "    plt.tight_layout()\n",
        "    plt.ylabel('True label')\n",
        "    plt.xlabel('Predicted label')\n",
        "\n",
        "    plt.savefig(path_save + '/conf_matrix_model_'+ name +'.png')\n",
        "\n",
        "\n",
        "def classify(img_path, y_true, name, path_toResult, path_model):\n",
        "    \"\"\"\n",
        "        Funcao responsavel salvar as imagens com a legenda da predição do modelo\n",
        "\n",
        "        Arguments:\n",
        "          img_path: str -- Caminho para a imagem a ser predita\n",
        "          y_true: str -- Categoria correta da imagem\n",
        "          name: str -- Identidade(nome) do arquivo\n",
        "          path_toResult: str -- Caminho para a pasta que sera salvo a imagem predita\n",
        "          path_model: str -- Caminho do modelo .h5\n",
        "\n",
        "        Return:\n",
        "    \"\"\"\n",
        "    img = image.load_img(img_path, target_size=(256, 256))\n",
        "    img = img.reshape(1, 256, 256, 3)\n",
        "    img_array = image.img_to_array(img)\n",
        "\n",
        "    img_batch = np.expand_dims(img_array, axis=0)\n",
        "    \n",
        "    #tf.keras.layers.Rescaling(scale=1./255)\n",
        "    \n",
        "\n",
        "    img_preprocessed = preprocess_input(img_batch)\n",
        "    class_names = ['Adriano', 'Leocassio', 'Renato']\n",
        "\n",
        "    model = load_model(path_model)\n",
        "    prediction = model.predict(img_preprocessed)\n",
        "\n",
        "    score = tf.nn.softmax(prediction[0])\n",
        "    print(\"classe '{}' com uma confiança de {: .2f}%.\".format(\n",
        "        class_names[np.argmax(score)], 100 * np.max(score)))\n",
        "\n",
        "    \n",
        "    if not os.path.exists(path_toResult):\n",
        "        os.makedirs(path_toResult)\n",
        "    # Lendo a imagem\n",
        "    img = cv2.imread(img_path)\n",
        "\n",
        "    # Padronizando as configurações para escrever na imagem\n",
        "    font = cv2.FONT_HERSHEY_SIMPLEX\n",
        "    bottomLeftCornerOfText = (0, 50)\n",
        "    bottomLeftCornerOfText_2 = (0, 100)\n",
        "    fontScale = 2\n",
        "    fontColor = (0, 255, 0)\n",
        "    lineType = 3\n",
        "\n",
        "    cv2.putText(img, 'True: ' + y_true, bottomLeftCornerOfText, font, fontScale, fontColor, lineType)\n",
        "    \n",
        "    if y_true == str(class_names[np.argmax(score)]):\n",
        "        cv2.putText(img, 'Predict: ' + str(class_names[np.argmax(score)]), bottomLeftCornerOfText_2, font,\n",
        "                    fontScale, fontColor, lineType)\n",
        "    else:\n",
        "        fontColor = (0, 0, 255)\n",
        "        cv2.putText(img, 'Predict: ' + str(class_names[np.argmax(score)]), bottomLeftCornerOfText_2, font,\n",
        "                    fontScale, fontColor, lineType)\n",
        "    \n",
        "    cv2.imwrite(path_toResult + name, img)\n",
        "\n"
      ],
      "metadata": {
        "id": "YeWjFgqIzYni"
      },
      "execution_count": null,
      "outputs": []
    },
    {
      "cell_type": "markdown",
      "source": [
        "# Main"
      ],
      "metadata": {
        "id": "vMYA-OMszo5D"
      }
    },
    {
      "cell_type": "code",
      "source": [
        "def main():\n",
        "    # Alguns parâmetros para leitura do dataset e treinamento do modelo\n",
        "    TRAINING_DIR = '/content/train'\n",
        "    TEST_DIR = '/content/test'\n",
        "    VAL_DIR = '/content/val'\n",
        "\n",
        "    path_model_incep = '/content/drive/MyDrive/BootCamp_Atlantico/projeto/model_inceptionv3.h5'\n",
        "    path_model_gen = '/content/drive/MyDrive/BootCamp_Atlantico/projeto/model_gen.h5'\n",
        "    path_toResult_incept = '/content/drive/MyDrive/BootCamp_Atlantico/projeto/resultado/inceptionv3/'\n",
        "    path_toResult_gen = '/content/drive/MyDrive/BootCamp_Atlantico/projeto/resultado/gen/'\n",
        "    path_save = '/content/drive/MyDrive/BootCamp_Atlantico/projeto/'\n",
        "    name_ = 'inceptionv3'\n",
        "    name_gen = 'gen'\n",
        "\n",
        "    im_shape = (256, 256, 3)\n",
        "\n",
        "    seed = 10\n",
        "    BATCH_SIZE = 2\n",
        "    epochs = 60\n",
        "\n",
        "    # Carregendo o dataset\n",
        "    print('[INFO]: Load Dataset')\n",
        "    train_generator, validation_generator, test_generator, nb_train_samples, nb_validation_samples, nb_test_samples \\\n",
        "        , num_classes, classes = load_dataset(TRAINING_DIR, TEST_DIR, VAL_DIR, (256,256), seed, BATCH_SIZE)\n",
        "\n",
        "    # Treinando\n",
        "    print('[INFO]: Train InceptionV3')\n",
        "    #make_modelGen_inceptionv3(epochs, BATCH_SIZE, train_generator, validation_generator, nb_train_samples,\n",
        "    #                          nb_validation_samples, path_model_incep)\n",
        "    \n",
        "    print('[INFO]: Train Gen')\n",
        "    #make_modelGen(epochs, BATCH_SIZE, num_classes, im_shape, train_generator\n",
        "    #            , validation_generator, nb_train_samples, nb_validation_samples, path_model_gen)\n",
        "\n",
        "    # Testando o modelo\n",
        "    print('[INFO]: Teste model InceptionV3')\n",
        "    Y_pred_, y_pred_, target_names_, model_ = test_model(path_model_incep, validation_generator, test_generator)\n",
        "    print('[INFO]: Teste model gen')\n",
        "    Y_pred, y_pred, target_names, model = test_model(path_model_gen, validation_generator, test_generator)\n",
        "\n",
        "    # Plotando a matriz de confusão\n",
        "    print('[INFO]: Plotando a matriz de confusão -- INCEPTIONV3')\n",
        "    #cm_INCEPT = confusion_matrix(test_generator.classes, y_pred_)\n",
        "    #plot_confusion_matrix(path_save, name_, cm_INCEPT, target_names, normalize=False, title='Confusion Matrix Model InceptionV3')\n",
        "\n",
        "    print('[INFO]: Plotando a matriz de confusão -- GEN')\n",
        "    #cm_gen = confusion_matrix(test_generator.classes, y_pred)\n",
        "    #plot_confusion_matrix(path_save, name_gen, cm_gen, target_names, normalize=False, title='Confusion Matrix Model Gen')\n",
        "\n",
        "    # Report\n",
        "    print('[INFO]: Classification Report Inception V3')\n",
        "    #print(classification_report(test_generator.classes, y_pred_, target_names=target_names))\n",
        "\n",
        "    print('[INFO]: Classification Report gen')\n",
        "    #print(classification_report(test_generator.classes, y_pred, target_names=target_names))\n",
        "\n",
        "    print('\\n[INFO]: Gerando imagens resultado da rede Inception V3\\n')\n",
        "    for root, dirs, files in os.walk(TEST_DIR, topdown=False):\n",
        "        for name in files:\n",
        "            y_true = root.split('/')[-1]\n",
        "            path_img = os.path.join(root, name)\n",
        "            classify(path_img, y_true, name, path_toResult_incept, path_model_incep)\n",
        "\n",
        "    print('\\n[INFO]: Gerando imagens resultado da rede GEN\\n')\n",
        "    for root, dirs, files in os.walk(TEST_DIR, topdown=False):\n",
        "        for name in files:\n",
        "            y_true = root.split('/')[-1]\n",
        "            path_img = os.path.join(root, name)\n",
        "            classify(path_img, y_true, name, path_toResult_gen, path_model_gen)"
      ],
      "metadata": {
        "id": "FHY3T27NzlQ-"
      },
      "execution_count": null,
      "outputs": []
    },
    {
      "cell_type": "code",
      "source": [
        "if __name__ == \"__main__\":\n",
        "    main()"
      ],
      "metadata": {
        "id": "rDn2woF9MJfu",
        "colab": {
          "base_uri": "https://localhost:8080/",
          "height": 886
        },
        "outputId": "e4c02733-df14-44b9-9a0c-eb07464a843a"
      },
      "execution_count": null,
      "outputs": [
        {
          "output_type": "stream",
          "name": "stdout",
          "text": [
            "[INFO]: Load Dataset\n",
            "Found 57 images belonging to 3 classes.\n",
            "Found 9 images belonging to 3 classes.\n",
            "Found 9 images belonging to 3 classes.\n",
            "Classes_train: ['Adriano', 'Leocassio', 'Renato']\n",
            "Classes_val: ['Adriano', 'Leocassio', 'Renato']\n",
            "Classes_test: ['Adriano', 'Leocassio', 'Renato']\n",
            "[INFO]: Train InceptionV3\n",
            "[INFO]: Train Gen\n",
            "[INFO]: Teste model InceptionV3\n"
          ]
        },
        {
          "output_type": "stream",
          "name": "stderr",
          "text": [
            "/usr/local/lib/python3.7/dist-packages/ipykernel_launcher.py:19: UserWarning: `Model.evaluate_generator` is deprecated and will be removed in a future version. Please use `Model.evaluate`, which supports generators.\n"
          ]
        },
        {
          "output_type": "stream",
          "name": "stdout",
          "text": [
            "Val loss: 0.000843042740598321\n",
            "Val accuracy: 1.0\n"
          ]
        },
        {
          "output_type": "stream",
          "name": "stderr",
          "text": [
            "/usr/local/lib/python3.7/dist-packages/ipykernel_launcher.py:23: UserWarning: `Model.evaluate_generator` is deprecated and will be removed in a future version. Please use `Model.evaluate`, which supports generators.\n"
          ]
        },
        {
          "output_type": "stream",
          "name": "stdout",
          "text": [
            "Test loss: 0.001881344011053443\n",
            "Test accuracy: 1.0\n",
            "classes: ['Adriano', 'Leocassio', 'Renato']\n"
          ]
        },
        {
          "output_type": "stream",
          "name": "stderr",
          "text": [
            "/usr/local/lib/python3.7/dist-packages/ipykernel_launcher.py:29: UserWarning: `Model.predict_generator` is deprecated and will be removed in a future version. Please use `Model.predict`, which supports generators.\n"
          ]
        },
        {
          "output_type": "stream",
          "name": "stdout",
          "text": [
            "[INFO]: Teste model gen\n",
            "Val loss: 0.0002617084828671068\n",
            "Val accuracy: 1.0\n",
            "Test loss: 0.0002698086609598249\n",
            "Test accuracy: 1.0\n",
            "classes: ['Adriano', 'Leocassio', 'Renato']\n",
            "[INFO]: Plotando a matriz de confusão -- INCEPTIONV3\n",
            "[INFO]: Plotando a matriz de confusão -- GEN\n",
            "[INFO]: Classification Report Inception V3\n",
            "[INFO]: Classification Report gen\n",
            "\n",
            "[INFO]: Gerando imagens resultado da rede Inception V3\n",
            "\n"
          ]
        },
        {
          "output_type": "error",
          "ename": "AttributeError",
          "evalue": "ignored",
          "traceback": [
            "\u001b[0;31m---------------------------------------------------------------------------\u001b[0m",
            "\u001b[0;31mAttributeError\u001b[0m                            Traceback (most recent call last)",
            "\u001b[0;32m<ipython-input-74-972361fa1b80>\u001b[0m in \u001b[0;36m<module>\u001b[0;34m()\u001b[0m\n\u001b[1;32m      1\u001b[0m \u001b[0;32mif\u001b[0m \u001b[0m__name__\u001b[0m \u001b[0;34m==\u001b[0m \u001b[0;34m\"__main__\"\u001b[0m\u001b[0;34m:\u001b[0m\u001b[0;34m\u001b[0m\u001b[0;34m\u001b[0m\u001b[0m\n\u001b[0;32m----> 2\u001b[0;31m     \u001b[0mmain\u001b[0m\u001b[0;34m(\u001b[0m\u001b[0;34m)\u001b[0m\u001b[0;34m\u001b[0m\u001b[0;34m\u001b[0m\u001b[0m\n\u001b[0m",
            "\u001b[0;32m<ipython-input-73-1158e9285354>\u001b[0m in \u001b[0;36mmain\u001b[0;34m()\u001b[0m\n\u001b[1;32m     59\u001b[0m             \u001b[0my_true\u001b[0m \u001b[0;34m=\u001b[0m \u001b[0mroot\u001b[0m\u001b[0;34m.\u001b[0m\u001b[0msplit\u001b[0m\u001b[0;34m(\u001b[0m\u001b[0;34m'/'\u001b[0m\u001b[0;34m)\u001b[0m\u001b[0;34m[\u001b[0m\u001b[0;34m-\u001b[0m\u001b[0;36m1\u001b[0m\u001b[0;34m]\u001b[0m\u001b[0;34m\u001b[0m\u001b[0;34m\u001b[0m\u001b[0m\n\u001b[1;32m     60\u001b[0m             \u001b[0mpath_img\u001b[0m \u001b[0;34m=\u001b[0m \u001b[0mos\u001b[0m\u001b[0;34m.\u001b[0m\u001b[0mpath\u001b[0m\u001b[0;34m.\u001b[0m\u001b[0mjoin\u001b[0m\u001b[0;34m(\u001b[0m\u001b[0mroot\u001b[0m\u001b[0;34m,\u001b[0m \u001b[0mname\u001b[0m\u001b[0;34m)\u001b[0m\u001b[0;34m\u001b[0m\u001b[0;34m\u001b[0m\u001b[0m\n\u001b[0;32m---> 61\u001b[0;31m             \u001b[0mclassify\u001b[0m\u001b[0;34m(\u001b[0m\u001b[0mpath_img\u001b[0m\u001b[0;34m,\u001b[0m \u001b[0my_true\u001b[0m\u001b[0;34m,\u001b[0m \u001b[0mname\u001b[0m\u001b[0;34m,\u001b[0m \u001b[0mpath_toResult_incept\u001b[0m\u001b[0;34m,\u001b[0m \u001b[0mpath_model_incep\u001b[0m\u001b[0;34m)\u001b[0m\u001b[0;34m\u001b[0m\u001b[0;34m\u001b[0m\u001b[0m\n\u001b[0m\u001b[1;32m     62\u001b[0m \u001b[0;34m\u001b[0m\u001b[0m\n\u001b[1;32m     63\u001b[0m     \u001b[0mprint\u001b[0m\u001b[0;34m(\u001b[0m\u001b[0;34m'\\n[INFO]: Gerando imagens resultado da rede GEN\\n'\u001b[0m\u001b[0;34m)\u001b[0m\u001b[0;34m\u001b[0m\u001b[0;34m\u001b[0m\u001b[0m\n",
            "\u001b[0;32m<ipython-input-72-f9fd0057e89a>\u001b[0m in \u001b[0;36mclassify\u001b[0;34m(img_path, y_true, name, path_toResult, path_model)\u001b[0m\n\u001b[1;32m     89\u001b[0m     \"\"\"\n\u001b[1;32m     90\u001b[0m     \u001b[0mimg\u001b[0m \u001b[0;34m=\u001b[0m \u001b[0mimage\u001b[0m\u001b[0;34m.\u001b[0m\u001b[0mload_img\u001b[0m\u001b[0;34m(\u001b[0m\u001b[0mimg_path\u001b[0m\u001b[0;34m,\u001b[0m \u001b[0mtarget_size\u001b[0m\u001b[0;34m=\u001b[0m\u001b[0;34m(\u001b[0m\u001b[0;36m256\u001b[0m\u001b[0;34m,\u001b[0m \u001b[0;36m256\u001b[0m\u001b[0;34m)\u001b[0m\u001b[0;34m)\u001b[0m\u001b[0;34m\u001b[0m\u001b[0;34m\u001b[0m\u001b[0m\n\u001b[0;32m---> 91\u001b[0;31m     \u001b[0mimg\u001b[0m \u001b[0;34m=\u001b[0m \u001b[0mimg\u001b[0m\u001b[0;34m.\u001b[0m\u001b[0mreshape\u001b[0m\u001b[0;34m(\u001b[0m\u001b[0;36m1\u001b[0m\u001b[0;34m,\u001b[0m \u001b[0;36m256\u001b[0m\u001b[0;34m,\u001b[0m \u001b[0;36m256\u001b[0m\u001b[0;34m,\u001b[0m \u001b[0;36m3\u001b[0m\u001b[0;34m)\u001b[0m\u001b[0;34m\u001b[0m\u001b[0;34m\u001b[0m\u001b[0m\n\u001b[0m\u001b[1;32m     92\u001b[0m     \u001b[0mimg_array\u001b[0m \u001b[0;34m=\u001b[0m \u001b[0mimage\u001b[0m\u001b[0;34m.\u001b[0m\u001b[0mimg_to_array\u001b[0m\u001b[0;34m(\u001b[0m\u001b[0mimg\u001b[0m\u001b[0;34m)\u001b[0m\u001b[0;34m\u001b[0m\u001b[0;34m\u001b[0m\u001b[0m\n\u001b[1;32m     93\u001b[0m \u001b[0;34m\u001b[0m\u001b[0m\n",
            "\u001b[0;31mAttributeError\u001b[0m: 'Image' object has no attribute 'reshape'"
          ]
        }
      ]
    },
    {
      "cell_type": "code",
      "source": [
        "model = load_model('/content/drive/MyDrive/BootCamp_Atlantico/projeto/model_inceptionv3.h5')"
      ],
      "metadata": {
        "id": "V20WSAKse7no"
      },
      "execution_count": null,
      "outputs": []
    },
    {
      "cell_type": "code",
      "source": [
        "class_names = ['Adriano', 'Leocassio', 'Renato']"
      ],
      "metadata": {
        "id": "PI2fCCgBfMUZ"
      },
      "execution_count": null,
      "outputs": []
    },
    {
      "cell_type": "code",
      "source": [
        "test = '/content/Captura de tela de 2021-01-11 14-14-37.png'\n",
        "image = cv2.imread(test)\n",
        "img = cv2.resize(image, (256, 256))\n",
        "img = img.reshape(1, 256, 256, 3)\n",
        "img = preprocess_input(img)\n",
        "i = time.time()\n",
        "pred = model.predict(img)\n",
        "f = time.time()\n",
        "index = np.argmax(pred, axis=1)[0]\n",
        "prediction = class_names[index]\n",
        "prediction"
      ],
      "metadata": {
        "colab": {
          "base_uri": "https://localhost:8080/",
          "height": 35
        },
        "id": "CpVGCMftYAoZ",
        "outputId": "ca57dc10-e1a1-470f-afcc-76635a460268"
      },
      "execution_count": null,
      "outputs": [
        {
          "output_type": "execute_result",
          "data": {
            "text/plain": [
              "'Adriano'"
            ],
            "application/vnd.google.colaboratory.intrinsic+json": {
              "type": "string"
            }
          },
          "metadata": {},
          "execution_count": 85
        }
      ]
    }
  ]
}